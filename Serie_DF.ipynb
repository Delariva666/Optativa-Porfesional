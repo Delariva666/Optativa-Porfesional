{
  "nbformat": 4,
  "nbformat_minor": 0,
  "metadata": {
    "colab": {
      "provenance": [],
      "authorship_tag": "ABX9TyNoPSBCrvYew10kMtCmwrvz",
      "include_colab_link": true
    },
    "kernelspec": {
      "name": "python3",
      "display_name": "Python 3"
    },
    "language_info": {
      "name": "python"
    }
  },
  "cells": [
    {
      "cell_type": "markdown",
      "metadata": {
        "id": "view-in-github",
        "colab_type": "text"
      },
      "source": [
        "<a href=\"https://colab.research.google.com/github/Delariva666/Optativa-Porfesional/blob/main/Serie_DF.ipynb\" target=\"_parent\"><img src=\"https://colab.research.google.com/assets/colab-badge.svg\" alt=\"Open In Colab\"/></a>"
      ]
    },
    {
      "cell_type": "markdown",
      "source": [
        "Ejercicio\n",
        "\n",
        "Teoria:\n",
        "Explicacion de series y Data Frame  diferencias y usos de cada estructura"
      ],
      "metadata": {
        "id": "I2OEWGzfD5Nk"
      }
    },
    {
      "cell_type": "code",
      "source": [
        "import pandas as bd\n",
        "import numpy as np"
      ],
      "metadata": {
        "id": "97jI2hhvEM0N"
      },
      "execution_count": null,
      "outputs": []
    }
  ]
}