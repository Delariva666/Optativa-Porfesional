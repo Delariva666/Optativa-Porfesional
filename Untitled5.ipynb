{
  "nbformat": 4,
  "nbformat_minor": 0,
  "metadata": {
    "colab": {
      "provenance": [],
      "authorship_tag": "ABX9TyNEaMqkrdcVGcklzB5/O7GR",
      "include_colab_link": true
    },
    "kernelspec": {
      "name": "python3",
      "display_name": "Python 3"
    },
    "language_info": {
      "name": "python"
    }
  },
  "cells": [
    {
      "cell_type": "markdown",
      "metadata": {
        "id": "view-in-github",
        "colab_type": "text"
      },
      "source": [
        "<a href=\"https://colab.research.google.com/github/Delariva666/Optativa-Porfesional/blob/main/Untitled5.ipynb\" target=\"_parent\"><img src=\"https://colab.research.google.com/assets/colab-badge.svg\" alt=\"Open In Colab\"/></a>"
      ]
    },
    {
      "cell_type": "markdown",
      "source": [
        "Ejercicio\n",
        "\n",
        "Teoria:\n",
        "Explicacion de series y Data Frame  diferencias y usos de cada estructura"
      ],
      "metadata": {
        "id": "I2OEWGzfD5Nk"
      }
    },
    {
      "cell_type": "code",
      "source": [
        "import pandas as pd\n",
        "import numpy as np"
      ],
      "metadata": {
        "id": "97jI2hhvEM0N"
      },
      "execution_count": 3,
      "outputs": []
    },
    {
      "cell_type": "markdown",
      "source": [
        "CREAR UNA SERIE"
      ],
      "metadata": {
        "id": "pclr-S87FJrk"
      }
    },
    {
      "cell_type": "code",
      "source": [
        "s = pd.Series([1, 2, 3, np.nan, 6, 8])\n",
        "print(\"Serie: \")\n",
        "print(s)"
      ],
      "metadata": {
        "colab": {
          "base_uri": "https://localhost:8080/"
        },
        "id": "gpa6OHyQFNqf",
        "outputId": "00f6ead0-fbec-430d-eaa4-e922279c6c75"
      },
      "execution_count": 5,
      "outputs": [
        {
          "output_type": "stream",
          "name": "stdout",
          "text": [
            "Serie: \n",
            "0    1.0\n",
            "1    2.0\n",
            "2    3.0\n",
            "3    NaN\n",
            "4    6.0\n",
            "5    8.0\n",
            "dtype: float64\n"
          ]
        }
      ]
    },
    {
      "cell_type": "markdown",
      "source": [
        "DATA FRAME"
      ],
      "metadata": {
        "id": "_P10m7bDFy3j"
      }
    },
    {
      "cell_type": "code",
      "source": [
        "df = pd.DataFrame({\n",
        "'A': [1, 2, 3, 4],\n",
        "'B' : pd. Timestamp ('20230101'),\n",
        "'C': pd. Series(1, index=list (range(4)), dtype='float32'),\n",
        "'D': np. array ([3] * 4, dtype='int32'),\n",
        "'E': pd. Categorical([\"test\", \"train\", \"test\", \"train\"]),\n",
        "'F':'foo'\n",
        "})\n",
        "\n",
        "print(\"\\nDataFrame:\")\n",
        "print(df)"
      ],
      "metadata": {
        "colab": {
          "base_uri": "https://localhost:8080/"
        },
        "id": "pQ98BQ4FGF-S",
        "outputId": "10e291a3-cbd5-4bde-ebcc-1705d8cb4f1f"
      },
      "execution_count": 11,
      "outputs": [
        {
          "output_type": "stream",
          "name": "stdout",
          "text": [
            "\n",
            "DataFrame:\n",
            "   A          B    C  D      E    F\n",
            "0  1 2023-01-01  1.0  3   test  foo\n",
            "1  2 2023-01-01  1.0  3  train  foo\n",
            "2  3 2023-01-01  1.0  3   test  foo\n",
            "3  4 2023-01-01  1.0  3  train  foo\n"
          ]
        }
      ]
    },
    {
      "cell_type": "code",
      "source": [
        "print(\"\\nTipos de datos:\")\n",
        "print(df.dtypes)\n",
        "print(\"\\nPriemera 2 filas:\")\n",
        "print(df.head(2))\n",
        "print(\"\\nUltimas 2 filas: \")\n",
        "print(df.tail(2))"
      ],
      "metadata": {
        "colab": {
          "base_uri": "https://localhost:8080/"
        },
        "id": "LXY8EG-GIMMb",
        "outputId": "9ff299ca-de8b-4e60-92a9-fec134173ba3"
      },
      "execution_count": 12,
      "outputs": [
        {
          "output_type": "stream",
          "name": "stdout",
          "text": [
            "\n",
            "Tipos de datos:\n",
            "A            int64\n",
            "B    datetime64[s]\n",
            "C          float32\n",
            "D            int32\n",
            "E         category\n",
            "F           object\n",
            "dtype: object\n",
            "\n",
            "Priemera 2 filas:\n",
            "   A          B    C  D      E    F\n",
            "0  1 2023-01-01  1.0  3   test  foo\n",
            "1  2 2023-01-01  1.0  3  train  foo\n",
            "\n",
            "Ultimas 2 filas: \n",
            "   A          B    C  D      E    F\n",
            "2  3 2023-01-01  1.0  3   test  foo\n",
            "3  4 2023-01-01  1.0  3  train  foo\n"
          ]
        }
      ]
    },
    {
      "cell_type": "code",
      "source": [],
      "metadata": {
        "id": "rzHuLXmoIL-0"
      },
      "execution_count": null,
      "outputs": []
    }
  ]
}