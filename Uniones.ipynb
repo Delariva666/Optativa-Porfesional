{
  "nbformat": 4,
  "nbformat_minor": 0,
  "metadata": {
    "colab": {
      "provenance": [],
      "authorship_tag": "ABX9TyMHY4l9ADEDj9/mwZRFycbm",
      "include_colab_link": true
    },
    "kernelspec": {
      "name": "python3",
      "display_name": "Python 3"
    },
    "language_info": {
      "name": "python"
    }
  },
  "cells": [
    {
      "cell_type": "markdown",
      "metadata": {
        "id": "view-in-github",
        "colab_type": "text"
      },
      "source": [
        "<a href=\"https://colab.research.google.com/github/Delariva666/Optativa-Porfesional/blob/main/Uniones.ipynb\" target=\"_parent\"><img src=\"https://colab.research.google.com/assets/colab-badge.svg\" alt=\"Open In Colab\"/></a>"
      ]
    },
    {
      "cell_type": "code",
      "execution_count": null,
      "metadata": {
        "id": "0nGqVGscg8Dv"
      },
      "outputs": [],
      "source": []
    },
    {
      "cell_type": "markdown",
      "source": [
        "# Ejercicio 6"
      ],
      "metadata": {
        "id": "eEFeRidwjxa6"
      }
    },
    {
      "cell_type": "markdown",
      "source": [
        "# Tipos de Uniones"
      ],
      "metadata": {
        "id": "C1Z4lzl9j36y"
      }
    },
    {
      "cell_type": "code",
      "source": [
        "import pandas as pd"
      ],
      "metadata": {
        "id": "VvChvC7skLdJ"
      },
      "execution_count": 1,
      "outputs": []
    },
    {
      "cell_type": "code",
      "source": [
        "df1 = pd.DataFrame({\n",
        "    'ID': [1,2,3,4],\n",
        "    'Nombre': ['Ana', 'Juan', 'Maria', 'Carlos'],\n",
        "    'Dpartamento': ['Ventas', 'IT', 'Marketing', 'RH']\n",
        "})\n",
        "\n",
        "df2 = pd.DataFrame({\n",
        "    'ID': [3,4,5,6],\n",
        "    'Salario': [50000, 60000, 55000, 65000]\n",
        "})\n",
        "\n",
        "print(df1)\n",
        "print(df2)\n"
      ],
      "metadata": {
        "colab": {
          "base_uri": "https://localhost:8080/"
        },
        "id": "ahlexmqdkQBe",
        "outputId": "0643ffaf-1388-4a8e-d6c6-3bd7389db576"
      },
      "execution_count": 3,
      "outputs": [
        {
          "output_type": "stream",
          "name": "stdout",
          "text": [
            "   ID  Nombre Dpartamento\n",
            "0   1     Ana      Ventas\n",
            "1   2    Juan          IT\n",
            "2   3   Maria   Marketing\n",
            "3   4  Carlos          RH\n",
            "   ID  Salario\n",
            "0   3    50000\n",
            "1   4    60000\n",
            "2   5    55000\n",
            "3   6    65000\n"
          ]
        }
      ]
    },
    {
      "cell_type": "markdown",
      "source": [
        "# Funcion Inner"
      ],
      "metadata": {
        "id": "UBMqI-NilZBp"
      }
    },
    {
      "cell_type": "code",
      "source": [
        "inner_merge = pd.merge(df1, df2, on='ID', how='inner') # junta las tablas con el id que concidan\n",
        "print(\"\\Funcion inner\")\n",
        "print(inner_merge)\n"
      ],
      "metadata": {
        "colab": {
          "base_uri": "https://localhost:8080/"
        },
        "id": "EDHceIYclfxb",
        "outputId": "10fcae1c-518d-4a61-e038-2f631d0649bd"
      },
      "execution_count": 5,
      "outputs": [
        {
          "output_type": "stream",
          "name": "stdout",
          "text": [
            "\\Funcion inner\n",
            "   ID  Nombre Dpartamento  Salario\n",
            "0   3   Maria   Marketing    50000\n",
            "1   4  Carlos          RH    60000\n"
          ]
        }
      ]
    },
    {
      "cell_type": "markdown",
      "source": [
        "# Funsion outer"
      ],
      "metadata": {
        "id": "aecp14Urmhjv"
      }
    },
    {
      "cell_type": "code",
      "source": [
        "outer_merge = pd.merge(df1, df2, on='ID', how='outer')# junta todos pero los que no coicidan les pone NA\n",
        "print(\"\\Funcion inner\")\n",
        "print(inner_merge)"
      ],
      "metadata": {
        "colab": {
          "base_uri": "https://localhost:8080/"
        },
        "id": "aXPJvCiaml46",
        "outputId": "ed97df16-517f-4771-d64c-1bcc45fb9134"
      },
      "execution_count": 8,
      "outputs": [
        {
          "output_type": "stream",
          "name": "stdout",
          "text": [
            "\\Funcion inner\n",
            "   ID  Nombre Dpartamento  Salario\n",
            "0   3   Maria   Marketing    50000\n",
            "1   4  Carlos          RH    60000\n"
          ]
        }
      ]
    },
    {
      "cell_type": "markdown",
      "source": [
        "# funcion left"
      ],
      "metadata": {
        "id": "_a6Hym3onAfV"
      }
    },
    {
      "cell_type": "code",
      "source": [
        "left_merge = pd.merge(df1, df2, on='ID', how='left')\n",
        "print(\"\\Funcion inner\")\n",
        "print(left_merge)"
      ],
      "metadata": {
        "colab": {
          "base_uri": "https://localhost:8080/"
        },
        "id": "kfGxPCy-m-v-",
        "outputId": "7c8a5678-6767-4ebc-ccfa-bf0fe0403171"
      },
      "execution_count": 9,
      "outputs": [
        {
          "output_type": "stream",
          "name": "stdout",
          "text": [
            "\\Funcion inner\n",
            "   ID  Nombre Dpartamento  Salario\n",
            "0   1     Ana      Ventas      NaN\n",
            "1   2    Juan          IT      NaN\n",
            "2   3   Maria   Marketing  50000.0\n",
            "3   4  Carlos          RH  60000.0\n"
          ]
        }
      ]
    },
    {
      "cell_type": "markdown",
      "source": [
        "Funcion rigth"
      ],
      "metadata": {
        "id": "euYzTTbinc08"
      }
    },
    {
      "cell_type": "code",
      "source": [
        "rigth_merge = pd.merge(df2, df1, on='ID', how='right')\n",
        "print(\"\\Funcion inner\")\n",
        "print(rigth_merge)"
      ],
      "metadata": {
        "colab": {
          "base_uri": "https://localhost:8080/"
        },
        "id": "yxNiaVo2ng18",
        "outputId": "e19d10bb-9d8f-44d5-d5b3-2bc796309aae"
      },
      "execution_count": 14,
      "outputs": [
        {
          "output_type": "stream",
          "name": "stdout",
          "text": [
            "\\Funcion inner\n",
            "   ID  Salario  Nombre Dpartamento\n",
            "0   1      NaN     Ana      Ventas\n",
            "1   2      NaN    Juan          IT\n",
            "2   3  50000.0   Maria   Marketing\n",
            "3   4  60000.0  Carlos          RH\n"
          ]
        }
      ]
    },
    {
      "cell_type": "markdown",
      "source": [
        "# Concatenacion"
      ],
      "metadata": {
        "id": "QDaRWC7Bnunr"
      }
    },
    {
      "cell_type": "code",
      "source": [
        "#concatenacion\n",
        "df3 = pd.DataFrame({\n",
        "    'ID': [7,8],\n",
        "    'Nombre': ['sofia', 'Pedro'],\n",
        "    'Dpartamento': ['Finanzas', 'Ventas']\n",
        "})\n",
        "\n",
        "concatenate1 = pd.concat([df1, df2, df3])\n",
        "print(\"\\concatenacion de dataframes\")\n",
        "print(concatenate1)"
      ],
      "metadata": {
        "colab": {
          "base_uri": "https://localhost:8080/"
        },
        "id": "aeM8q-y3nyHb",
        "outputId": "8f742f86-62e1-4112-df17-4d60ad87a621"
      },
      "execution_count": 13,
      "outputs": [
        {
          "output_type": "stream",
          "name": "stdout",
          "text": [
            "\\concatenacion de dataframes\n",
            "   ID  Nombre Dpartamento  Salario\n",
            "0   1     Ana      Ventas      NaN\n",
            "1   2    Juan          IT      NaN\n",
            "2   3   Maria   Marketing      NaN\n",
            "3   4  Carlos          RH      NaN\n",
            "0   3     NaN         NaN  50000.0\n",
            "1   4     NaN         NaN  60000.0\n",
            "2   5     NaN         NaN  55000.0\n",
            "3   6     NaN         NaN  65000.0\n",
            "0   7   sofia    Finanzas      NaN\n",
            "1   8   Pedro      Ventas      NaN\n"
          ]
        }
      ]
    },
    {
      "cell_type": "markdown",
      "source": [],
      "metadata": {
        "id": "z5Ano61Nnf3t"
      }
    }
  ]
}